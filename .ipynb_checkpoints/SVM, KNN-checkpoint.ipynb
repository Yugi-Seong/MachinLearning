{
 "cells": [
  {
   "cell_type": "markdown",
   "id": "246fd614",
   "metadata": {},
   "source": [
    "# SVM\n",
    "- Support Vector Machine(svm) 지표\n",
    "1. gamma - 값을 증가시키면 결정 경계가 더욱 복잡해지며 서포트 벡터 머신에서는 과도한 연산을 초래할 수 있지만 인식률을 향상시킬 수 있음, 데이터의 양과 특성에 적절한 값을 설정  \n",
    "2. c - 학습 시 잘못된 분류를 생성할 때 부여하는 벌점(penalty)을 의미/ 큰값 설정시 : 오버피팅, 작은 값 설정시 : 언더 피팅 "
   ]
  },
  {
   "cell_type": "code",
   "execution_count": 5,
   "id": "c207bda4",
   "metadata": {},
   "outputs": [],
   "source": [
    "from sklearn import datasets\n",
    "iris = datasets.load_iris()\n",
    "X = iris.data\n",
    "y = iris.target\n",
    "\n",
    "from sklearn.model_selection import train_test_split\n",
    "X_train, X_test, y_train, y_test = train_test_split(X,y,test_size = .5)"
   ]
  },
  {
   "cell_type": "code",
   "execution_count": 6,
   "id": "e8d0bba8",
   "metadata": {},
   "outputs": [
    {
     "name": "stdout",
     "output_type": "stream",
     "text": [
      "[2 0 0 0 2 1 1 1 0 2 1 0 1 1 2 2 0 1 2 0 1 1 0 1 0 0 2 2 2 2 1 1 1 2 2 1 0\n",
      " 0 0 0 0 0 2 2 1 2 0 1 0 0 0 2 1 1 2 1 1 2 1 1 1 1 1 0 0 1 0 2 2 1 2 2 2 1\n",
      " 2]\n",
      "0.96\n"
     ]
    }
   ],
   "source": [
    "from sklearn import svm \n",
    "clf =svm.SVC(gamma = 0.001, C =100.)\n",
    "clf.fit(X_train,y_train)\n",
    "predictions = clf.predict(X_test)\n",
    "print(y_test)\n",
    "\n",
    "from sklearn.metrics import accuracy_score \n",
    "print(accuracy_score(y_test,predictions))"
   ]
  },
  {
   "cell_type": "markdown",
   "id": "60c87b3e",
   "metadata": {},
   "source": [
    "# KNN "
   ]
  },
  {
   "cell_type": "markdown",
   "id": "18005773",
   "metadata": {},
   "source": [
    "장점 : 특징 공간에 있는 모든 데이터에 대한 정보가 필요하다.\n",
    "(가장 가까운 이웃을 찾기 위해 새로운 데이터에서 모든 기존 데이터까지의 거리를 확인해야 하기 때문)   \n",
    "단점 : 데이터와 클래스가 많이 있다면, 많은 메모리 공간과 계산 시간이 필요하다\n"
   ]
  },
  {
   "cell_type": "code",
   "execution_count": 8,
   "id": "6ee16659",
   "metadata": {},
   "outputs": [
    {
     "name": "stdout",
     "output_type": "stream",
     "text": [
      "(120, 4)\n",
      "(30, 4)\n"
     ]
    }
   ],
   "source": [
    "from sklearn.datasets import load_iris\n",
    "iris = load_iris()\n",
    "\n",
    "from sklearn.model_selection import train_test_split\n",
    "X = iris.data\n",
    "y = iris.target\n",
    "# (80:20)으로 분할한다. \n",
    "X_train,X_test,y_train,y_test = train_test_split(X,y,test_size=0.2,random_state=4)\n",
    "\n",
    "print(X_train.shape)\n",
    "print(X_test.shape)"
   ]
  },
  {
   "cell_type": "code",
   "execution_count": 19,
   "id": "1e991b04",
   "metadata": {},
   "outputs": [
    {
     "data": {
      "text/plain": [
       "0.9666666666666667"
      ]
     },
     "execution_count": 19,
     "metadata": {},
     "output_type": "execute_result"
    }
   ],
   "source": [
    "from sklearn.neighbors import KNeighborsClassifier\n",
    "from sklearn import metrics\n",
    "\n",
    "knn = KNeighborsClassifier(n_neighbors=6)\n",
    "knn.fit(X_train, y_train)\n",
    "y_pred = knn.predict(X_test)\n",
    "\n",
    "scores = metrics.accuracy_score(y_test, y_pred)\n",
    "scores"
   ]
  },
  {
   "cell_type": "code",
   "execution_count": 21,
   "id": "c0b0daab",
   "metadata": {},
   "outputs": [
    {
     "name": "stdout",
     "output_type": "stream",
     "text": [
      "versicolor\n",
      "setosa\n"
     ]
    }
   ],
   "source": [
    "knn = KNeighborsClassifier(n_neighbors=5)\n",
    "knn.fit(X, y)\n",
    "\n",
    "#0 = setosa, 1=versicolor, 2=virginica\n",
    "classes = {0:'setosa',1:'versicolor',2:'virginica'}\n",
    "\n",
    "# 아직 보지 못한 새로운 데이터를 제시해보자. \n",
    "x_new = [[3,4,5,2],[5,4,2,2]]\n",
    "y_predict = knn.predict(x_new)\n",
    "\n",
    "print(classes[y_predict[0]])\n",
    "print(classes[y_predict[1]])"
   ]
  }
 ],
 "metadata": {
  "kernelspec": {
   "display_name": "Python 3",
   "language": "python",
   "name": "python3"
  },
  "language_info": {
   "codemirror_mode": {
    "name": "ipython",
    "version": 3
   },
   "file_extension": ".py",
   "mimetype": "text/x-python",
   "name": "python",
   "nbconvert_exporter": "python",
   "pygments_lexer": "ipython3",
   "version": "3.8.9"
  }
 },
 "nbformat": 4,
 "nbformat_minor": 5
}
